{
 "cells": [
  {
   "cell_type": "code",
   "execution_count": 1,
   "metadata": {},
   "outputs": [],
   "source": [
    "import torch\n",
    "import torch.nn.functional as F\n",
    "import torchvision.datasets as datasets\n",
    "import torchvision.transforms as transforms\n",
    "from torch import optim \n",
    "from torch import nn\n",
    "from torch.utils.data import (\n",
    "    DataLoader,\n",
    ")\n",
    "from tqdm import tqdm"
   ]
  },
  {
   "cell_type": "code",
   "execution_count": 2,
   "metadata": {},
   "outputs": [],
   "source": [
    "class CNN(nn.Module):\n",
    "    def __init__(self,in_channels = 1, num_classes = 10):\n",
    "        super(CNN,self).__init__()\n",
    "        self.conv1 = nn.Conv2d(in_channels = in_channels, out_channels = 8, kernel_size = (3,3), stride = (1,1), padding = (1,1)) # Same Convolution\n",
    "        # Formula => nout = (nin + 2*padding - kernel_size)/stride + 1\n",
    "        # 28 = (28 + 2*1 - 3)/1 + 1\n",
    "        self.pool = nn.MaxPool2d(kernel_size = (2,2), stride = (2,2))\n",
    "        # 14 = (28 - 2)/2 + 1\n",
    "        self.conv2 = nn.Conv2d(in_channels = 8, out_channels = 16, kernel_size = (3,3), stride = (1,1), padding = (1,1))\n",
    "        self.fc1 = nn.Linear(16*7*7, num_classes)\n",
    "\n",
    "    def forward(self,x):\n",
    "        x = F.relu(self.conv1(x))\n",
    "        print(x.shape)\n",
    "        x = self.pool(x)\n",
    "        x = F.relu(self.conv2(x))\n",
    "        x = self.pool(x)\n",
    "        x = x.reshape(x.shape[0],-1)\n",
    "        x = self.fc1(x)\n",
    "        \n",
    "        return x"
   ]
  },
  {
   "cell_type": "code",
   "execution_count": 5,
   "metadata": {},
   "outputs": [
    {
     "name": "stdout",
     "output_type": "stream",
     "text": [
      "torch.Size([64, 8, 28, 28])\n"
     ]
    },
    {
     "data": {
      "text/plain": [
       "tensor([[ 6.0755e-01,  2.8551e-01, -1.8305e-01, -4.1430e-02,  2.5681e-01,\n",
       "          1.9053e-01,  2.9502e-01,  3.7516e-02, -2.9793e-01, -2.8718e-02],\n",
       "        [ 4.2166e-01,  3.6591e-01, -2.2302e-01, -2.8643e-02,  1.7334e-01,\n",
       "          1.0464e-01,  2.8438e-01,  1.3677e-01, -2.9036e-01,  1.5098e-01],\n",
       "        [ 4.5310e-01,  3.4885e-01, -2.4003e-02, -9.7730e-02,  6.4442e-02,\n",
       "          2.1208e-01,  3.3750e-01,  1.9098e-01, -3.3637e-02,  2.8714e-01],\n",
       "        [ 5.7389e-01,  4.4351e-01, -1.3765e-01,  4.3192e-02,  2.2004e-01,\n",
       "          1.8771e-01,  2.4651e-01,  7.1987e-02, -2.9906e-01,  1.4861e-01],\n",
       "        [ 2.9999e-01,  3.6587e-01, -9.2368e-02, -5.1892e-03,  1.1081e-01,\n",
       "          1.0634e-01,  2.5247e-01,  3.9271e-02, -1.0624e-01,  8.7364e-03],\n",
       "        [ 4.1988e-01,  2.3914e-01, -1.6101e-01, -1.3824e-01,  1.8411e-01,\n",
       "          1.3838e-01,  2.8210e-01,  6.2582e-02, -1.2425e-01,  5.2496e-02],\n",
       "        [ 4.5116e-01,  5.1801e-01, -2.8300e-01, -1.0331e-01,  1.6716e-01,\n",
       "          9.1583e-03,  1.7806e-01,  5.9947e-02,  1.5691e-01,  7.2758e-02],\n",
       "        [ 4.8387e-01,  5.4359e-01, -1.4363e-01,  3.0902e-02,  2.4197e-01,\n",
       "          1.4566e-01,  2.9155e-01,  2.2953e-01, -1.2090e-01,  8.0271e-02],\n",
       "        [ 3.9013e-01,  2.9382e-01, -1.4362e-01, -5.0993e-02, -7.4584e-03,\n",
       "          1.2482e-01,  3.0500e-01,  7.2819e-02, -7.1528e-02,  2.3436e-01],\n",
       "        [ 5.3905e-01,  3.8555e-01, -7.3546e-02, -5.9868e-03,  2.1354e-01,\n",
       "          1.6056e-01,  1.2155e-01,  5.5347e-02,  5.7992e-03,  2.9155e-02],\n",
       "        [ 5.2805e-01,  3.3467e-01, -6.5262e-02, -3.3449e-02,  1.7352e-01,\n",
       "          7.6462e-02,  2.0801e-01,  8.4583e-02, -4.2748e-02,  5.0951e-02],\n",
       "        [ 4.8738e-01,  4.1681e-01, -2.7246e-01, -1.3312e-01, -4.4342e-02,\n",
       "          6.4064e-02,  2.0905e-01, -4.2783e-02, -3.2938e-02,  1.7484e-01],\n",
       "        [ 4.9594e-01,  5.2336e-01, -1.6883e-01, -1.1528e-01,  2.6243e-02,\n",
       "         -1.8808e-02,  2.2820e-01,  6.5834e-02,  6.0602e-02,  2.0619e-01],\n",
       "        [ 3.6144e-01,  3.2221e-01, -3.2153e-01, -9.0234e-03,  1.4446e-01,\n",
       "          1.8744e-01,  2.6089e-01,  8.9697e-02, -1.6208e-01,  1.3619e-01],\n",
       "        [ 4.8681e-01,  4.3271e-01, -7.9935e-02,  6.6887e-02,  6.2267e-02,\n",
       "          3.4463e-02,  1.9184e-01,  6.5603e-02, -2.3392e-01,  1.0675e-01],\n",
       "        [ 4.5730e-01,  4.4015e-01, -1.8633e-01, -1.6842e-01,  2.5151e-01,\n",
       "          1.1423e-01,  1.9572e-01, -5.4117e-02,  6.9933e-03,  1.6526e-01],\n",
       "        [ 5.0291e-01,  4.1133e-01, -1.6820e-01, -7.5678e-02,  4.9482e-02,\n",
       "          7.8317e-02,  1.1892e-01,  9.7603e-02, -1.6643e-01,  4.4447e-02],\n",
       "        [ 5.5332e-01,  5.0311e-01, -2.1112e-01,  7.6170e-02,  7.7775e-02,\n",
       "          1.9188e-01,  2.8904e-01,  6.9389e-02,  1.6765e-02,  4.7518e-02],\n",
       "        [ 3.1209e-01,  3.3401e-01, -2.7813e-01, -1.2866e-02,  1.4961e-01,\n",
       "          1.6477e-01,  1.6339e-01,  2.3904e-01, -1.4087e-03, -6.9849e-02],\n",
       "        [ 3.8989e-01,  3.3853e-01, -1.3425e-01, -1.2287e-01,  1.8278e-01,\n",
       "          1.2073e-01,  2.3336e-01,  1.9258e-01, -1.0126e-01,  1.0881e-01],\n",
       "        [ 3.8699e-01,  3.7653e-01, -4.2519e-02,  7.8737e-03,  1.0997e-01,\n",
       "          1.3700e-01,  3.9164e-01,  4.9879e-03, -6.5755e-02,  5.1958e-02],\n",
       "        [ 5.4349e-01,  4.2738e-01, -2.4224e-01, -1.0726e-02,  3.0425e-01,\n",
       "          2.9912e-01,  2.5101e-01, -4.9734e-02,  4.7848e-02,  2.2453e-02],\n",
       "        [ 4.9301e-01,  4.0974e-01, -3.4662e-01, -1.0208e-01,  1.4387e-01,\n",
       "          3.0081e-03,  3.7751e-01,  5.6913e-02, -1.0748e-01,  9.0371e-02],\n",
       "        [ 4.1966e-01,  5.4558e-01, -9.0218e-02,  5.9184e-02,  1.1760e-01,\n",
       "          1.2268e-01,  2.4631e-01,  2.0040e-01, -1.0930e-01,  4.4452e-02],\n",
       "        [ 5.1444e-01,  4.7431e-01, -1.9179e-01, -9.5644e-03,  6.3797e-02,\n",
       "          1.1341e-01,  8.3671e-02,  6.1028e-02, -1.2365e-01,  3.3548e-01],\n",
       "        [ 3.8423e-01,  3.5660e-01, -2.9539e-02,  2.8267e-02,  4.0690e-01,\n",
       "          5.0492e-02,  3.8554e-01,  1.0644e-01, -1.1986e-01,  2.9584e-01],\n",
       "        [ 4.4350e-01,  2.4428e-01, -1.2079e-01,  5.7962e-02,  5.6838e-02,\n",
       "          7.2349e-02,  1.2504e-01,  6.5259e-02, -1.7018e-01,  5.1665e-02],\n",
       "        [ 6.4374e-01,  3.5822e-01, -2.6730e-01, -1.2464e-01,  1.5640e-01,\n",
       "          9.9865e-03,  2.9464e-01, -2.8068e-02, -2.9628e-02,  1.8021e-01],\n",
       "        [ 4.5214e-01,  3.9948e-01, -1.0290e-01,  6.6655e-02,  2.0403e-01,\n",
       "         -6.0657e-02,  9.8050e-02,  1.1185e-01, -2.1453e-01,  1.0844e-01],\n",
       "        [ 3.2371e-01,  2.2637e-01, -6.4062e-02, -5.7130e-02,  2.0904e-01,\n",
       "          1.4436e-01,  9.3176e-02,  8.0574e-02, -8.5031e-02,  5.1604e-02],\n",
       "        [ 4.2911e-01,  3.0750e-01, -2.9034e-02, -5.3210e-02,  3.6516e-02,\n",
       "          5.6844e-02,  1.3619e-01,  6.4885e-02, -1.4713e-01,  2.9345e-02],\n",
       "        [ 3.4339e-01,  4.1115e-01, -1.8280e-01, -2.3874e-01,  6.1025e-02,\n",
       "          2.3720e-01,  1.6674e-01,  1.6593e-01, -2.5570e-01,  2.9146e-01],\n",
       "        [ 4.4030e-01,  3.6615e-01,  1.5554e-02, -4.4302e-02,  5.7455e-02,\n",
       "          9.7006e-02,  3.1249e-01, -1.5944e-02, -9.4995e-02,  6.3332e-02],\n",
       "        [ 2.9232e-01,  3.5985e-01, -3.1382e-02,  1.4579e-02,  1.7542e-01,\n",
       "          1.7991e-01,  1.5864e-01,  3.7111e-03, -7.1105e-02,  7.7023e-02],\n",
       "        [ 4.4211e-01,  3.5732e-01,  1.2641e-01, -1.3905e-01,  6.4932e-02,\n",
       "          9.8408e-02,  1.4258e-01,  1.9478e-01, -1.2085e-02,  8.8607e-02],\n",
       "        [ 4.4772e-01,  3.3450e-01, -2.7742e-01, -1.5655e-01,  1.2402e-01,\n",
       "          9.1064e-02,  1.3911e-01,  2.0837e-01, -2.5799e-02,  1.3379e-01],\n",
       "        [ 4.6727e-01,  4.6127e-01, -1.5742e-01, -2.2860e-02,  2.6624e-01,\n",
       "          5.1036e-02,  2.4200e-01,  1.9850e-01, -1.2141e-01,  1.1623e-01],\n",
       "        [ 5.7146e-01,  1.8387e-01, -2.8674e-01,  5.7131e-03,  1.4033e-01,\n",
       "          1.8920e-01,  3.8761e-01,  6.7332e-02, -1.7070e-02,  1.4002e-01],\n",
       "        [ 2.7353e-01,  5.1868e-01, -2.2852e-01,  8.9280e-02,  1.6872e-01,\n",
       "          2.4893e-01,  2.8770e-01,  1.0203e-02,  4.7359e-02,  1.0468e-01],\n",
       "        [ 4.7524e-01,  4.4771e-01, -6.1357e-02,  1.5844e-02,  1.1679e-01,\n",
       "         -2.0450e-02,  2.1398e-01,  2.8989e-01,  1.2924e-02,  1.6789e-01],\n",
       "        [ 4.1157e-01,  4.6579e-01, -1.9802e-01, -3.1870e-02,  8.8640e-02,\n",
       "          2.1719e-01,  2.6815e-01,  4.5014e-02, -1.4420e-01,  1.1233e-02],\n",
       "        [ 5.7223e-01,  4.3194e-01, -6.7255e-02,  2.5217e-02,  1.0909e-01,\n",
       "          1.5321e-01,  2.7993e-01,  1.1913e-01,  3.0014e-02,  1.4768e-01],\n",
       "        [ 5.2244e-01,  3.9385e-01, -2.7191e-01, -1.0366e-01,  3.4759e-02,\n",
       "          1.9363e-01,  1.7380e-01,  4.9607e-02, -1.6380e-01, -6.9796e-02],\n",
       "        [ 4.3179e-01,  2.8230e-01, -1.6252e-01, -5.9651e-02,  1.3545e-01,\n",
       "          1.3273e-01,  1.6008e-01, -8.4616e-02, -7.3315e-02,  1.0682e-01],\n",
       "        [ 4.4698e-01,  5.4090e-01, -1.0936e-01, -5.0074e-04,  1.7925e-01,\n",
       "          5.4677e-02,  1.7487e-01,  1.7804e-01, -1.3007e-01,  2.8645e-01],\n",
       "        [ 5.7234e-01,  4.2200e-01, -6.4440e-02, -1.7258e-01,  2.4101e-01,\n",
       "          8.9415e-02,  1.6460e-01,  1.9911e-01, -1.0717e-01,  6.7832e-02],\n",
       "        [ 4.2896e-01,  2.0015e-01, -1.2031e-01, -8.2577e-02,  1.4636e-01,\n",
       "          3.1157e-01,  1.9001e-01,  1.5476e-01, -5.3303e-02,  7.0814e-02],\n",
       "        [ 6.2149e-01,  4.9840e-01,  9.7817e-02,  4.7765e-02,  2.3328e-01,\n",
       "          8.6144e-02,  2.0118e-01,  1.2591e-01, -1.3995e-02,  1.5637e-01],\n",
       "        [ 4.6577e-01,  4.8996e-01, -2.3656e-01,  1.6751e-01,  2.4019e-01,\n",
       "          1.2206e-01,  1.8442e-01,  1.4424e-01, -1.1497e-01,  1.2399e-01],\n",
       "        [ 5.5537e-01,  1.4062e-01, -1.7026e-01, -9.0604e-02,  1.3620e-01,\n",
       "          8.7931e-02,  2.2700e-01,  1.2193e-01, -1.3421e-02,  1.0320e-01],\n",
       "        [ 5.6338e-01,  5.3194e-01, -2.9229e-02,  1.7378e-01,  8.4201e-02,\n",
       "          1.3237e-01,  2.9258e-01,  1.3388e-01, -9.4871e-02,  1.9064e-01],\n",
       "        [ 3.3564e-01,  5.1014e-01, -1.7784e-01,  7.5206e-02,  1.4296e-01,\n",
       "          1.1988e-01,  1.4487e-01,  6.2864e-02, -1.0767e-01, -6.4385e-02],\n",
       "        [ 4.0017e-01,  4.6653e-01, -3.8747e-02, -7.2508e-02,  2.0349e-01,\n",
       "          4.6012e-02,  1.5629e-01,  2.2501e-02, -1.6594e-01,  1.2824e-01],\n",
       "        [ 6.1903e-01,  4.6541e-01, -2.9687e-01,  3.6269e-02,  3.0145e-01,\n",
       "          1.6857e-02,  2.7563e-01,  1.2176e-01, -1.8823e-01,  2.3714e-01],\n",
       "        [ 4.2757e-01,  5.6350e-01, -1.8073e-02,  4.3870e-02,  7.1592e-02,\n",
       "          9.1806e-02,  4.6359e-01,  1.2173e-01, -8.3313e-02,  7.6639e-02],\n",
       "        [ 2.2377e-01,  3.7366e-01, -9.2175e-02, -1.1314e-01,  6.9365e-02,\n",
       "          1.6525e-01,  2.1169e-01, -1.6398e-01,  9.1727e-02,  1.0173e-01],\n",
       "        [ 3.8543e-01,  3.6972e-01, -1.6478e-02,  4.6416e-02,  2.2259e-01,\n",
       "          1.5996e-01,  2.3686e-01, -3.1269e-02, -1.0473e-01,  3.1089e-02],\n",
       "        [ 4.5129e-01,  4.0739e-01, -2.4110e-02,  5.9164e-02,  1.8930e-02,\n",
       "          1.1651e-01,  1.9917e-01,  2.1542e-01, -6.8877e-03,  3.7066e-02],\n",
       "        [ 5.5686e-01,  3.6507e-01, -3.2720e-01,  9.9712e-03,  3.2695e-01,\n",
       "          1.3101e-01,  1.9446e-01,  1.5018e-01, -1.0556e-01, -2.6392e-02],\n",
       "        [ 5.6926e-01,  3.0805e-01, -2.0256e-01, -2.6799e-01,  7.9422e-02,\n",
       "          1.4792e-01,  2.0247e-01,  4.1386e-02, -3.7080e-02,  1.3487e-01],\n",
       "        [ 6.1399e-01,  2.9899e-01, -9.3635e-02, -2.1876e-01,  2.5335e-01,\n",
       "          6.5156e-02,  3.0064e-01,  1.6277e-01, -1.0215e-01,  7.4249e-02],\n",
       "        [ 3.7611e-01,  4.3146e-01, -1.3115e-01,  5.6869e-02,  1.4830e-01,\n",
       "          2.3142e-01,  2.4512e-01, -7.5540e-02, -2.6905e-03,  3.3220e-02],\n",
       "        [ 5.1775e-01,  4.5012e-01,  6.8002e-03,  3.8192e-02,  6.5855e-03,\n",
       "          4.6255e-02,  2.9666e-01,  6.8787e-03,  7.5602e-02, -8.4633e-02],\n",
       "        [ 5.9749e-01,  3.3575e-01, -1.3600e-01, -5.7539e-02,  1.9993e-01,\n",
       "          1.1237e-02,  2.3265e-01,  8.3930e-03, -9.1001e-02,  1.3821e-01]],\n",
       "       grad_fn=<AddmmBackward0>)"
      ]
     },
     "execution_count": 5,
     "metadata": {},
     "output_type": "execute_result"
    }
   ],
   "source": [
    "model = CNN()\n",
    "x = torch.randn(64,1,28,28)\n",
    "model(x)"
   ]
  },
  {
   "cell_type": "code",
   "execution_count": 4,
   "metadata": {},
   "outputs": [],
   "source": [
    "# Code for Training and Testing the model"
   ]
  },
  {
   "cell_type": "code",
   "execution_count": 23,
   "metadata": {},
   "outputs": [
    {
     "name": "stdout",
     "output_type": "stream",
     "text": [
      "Downloading http://yann.lecun.com/exdb/mnist/train-images-idx3-ubyte.gz\n",
      "Failed to download (trying next):\n",
      "HTTP Error 404: Not Found\n",
      "\n",
      "Downloading https://ossci-datasets.s3.amazonaws.com/mnist/train-images-idx3-ubyte.gz\n",
      "Downloading https://ossci-datasets.s3.amazonaws.com/mnist/train-images-idx3-ubyte.gz to dataset/MNIST\\raw\\train-images-idx3-ubyte.gz\n"
     ]
    },
    {
     "name": "stderr",
     "output_type": "stream",
     "text": [
      "100%|██████████| 9.91M/9.91M [00:13<00:00, 731kB/s] \n"
     ]
    },
    {
     "name": "stdout",
     "output_type": "stream",
     "text": [
      "Extracting dataset/MNIST\\raw\\train-images-idx3-ubyte.gz to dataset/MNIST\\raw\n",
      "\n",
      "Downloading http://yann.lecun.com/exdb/mnist/train-labels-idx1-ubyte.gz\n",
      "Failed to download (trying next):\n",
      "HTTP Error 404: Not Found\n",
      "\n",
      "Downloading https://ossci-datasets.s3.amazonaws.com/mnist/train-labels-idx1-ubyte.gz\n",
      "Downloading https://ossci-datasets.s3.amazonaws.com/mnist/train-labels-idx1-ubyte.gz to dataset/MNIST\\raw\\train-labels-idx1-ubyte.gz\n"
     ]
    },
    {
     "name": "stderr",
     "output_type": "stream",
     "text": [
      "100%|██████████| 28.9k/28.9k [00:00<00:00, 48.0kB/s]\n"
     ]
    },
    {
     "name": "stdout",
     "output_type": "stream",
     "text": [
      "Extracting dataset/MNIST\\raw\\train-labels-idx1-ubyte.gz to dataset/MNIST\\raw\n",
      "\n",
      "Downloading http://yann.lecun.com/exdb/mnist/t10k-images-idx3-ubyte.gz\n",
      "Failed to download (trying next):\n",
      "HTTP Error 404: Not Found\n",
      "\n",
      "Downloading https://ossci-datasets.s3.amazonaws.com/mnist/t10k-images-idx3-ubyte.gz\n",
      "Downloading https://ossci-datasets.s3.amazonaws.com/mnist/t10k-images-idx3-ubyte.gz to dataset/MNIST\\raw\\t10k-images-idx3-ubyte.gz\n"
     ]
    },
    {
     "name": "stderr",
     "output_type": "stream",
     "text": [
      "100%|██████████| 1.65M/1.65M [00:07<00:00, 227kB/s] \n"
     ]
    },
    {
     "name": "stdout",
     "output_type": "stream",
     "text": [
      "Extracting dataset/MNIST\\raw\\t10k-images-idx3-ubyte.gz to dataset/MNIST\\raw\n",
      "\n",
      "Downloading http://yann.lecun.com/exdb/mnist/t10k-labels-idx1-ubyte.gz\n",
      "Failed to download (trying next):\n",
      "HTTP Error 404: Not Found\n",
      "\n",
      "Downloading https://ossci-datasets.s3.amazonaws.com/mnist/t10k-labels-idx1-ubyte.gz\n",
      "Downloading https://ossci-datasets.s3.amazonaws.com/mnist/t10k-labels-idx1-ubyte.gz to dataset/MNIST\\raw\\t10k-labels-idx1-ubyte.gz\n"
     ]
    },
    {
     "name": "stderr",
     "output_type": "stream",
     "text": [
      "100%|██████████| 4.54k/4.54k [00:00<00:00, 909kB/s]\n"
     ]
    },
    {
     "name": "stdout",
     "output_type": "stream",
     "text": [
      "Extracting dataset/MNIST\\raw\\t10k-labels-idx1-ubyte.gz to dataset/MNIST\\raw\n",
      "\n"
     ]
    },
    {
     "name": "stderr",
     "output_type": "stream",
     "text": [
      "100%|██████████| 938/938 [00:07<00:00, 126.91it/s]\n",
      "100%|██████████| 938/938 [00:06<00:00, 136.86it/s]\n",
      "100%|██████████| 938/938 [00:06<00:00, 135.06it/s]\n"
     ]
    },
    {
     "name": "stdout",
     "output_type": "stream",
     "text": [
      "Accuracy on training set: 96.82\n",
      "Accuracy on test set: 97.00\n"
     ]
    }
   ],
   "source": [
    "# Set device\n",
    "device = torch.device(\"cuda\" if torch.cuda.is_available() else \"cpu\")\n",
    "\n",
    "# Hyperparameters\n",
    "in_channels = 1\n",
    "num_classes = 10\n",
    "learning_rate = 3e-4\n",
    "batch_size = 64\n",
    "num_epochs = 3\n",
    "\n",
    "# Load Data\n",
    "train_dataset = datasets.MNIST(\n",
    "    root=\"dataset/\", train=True, transform=transforms.ToTensor(), download=True\n",
    ")\n",
    "test_dataset = datasets.MNIST(\n",
    "    root=\"dataset/\", train=False, transform=transforms.ToTensor(), download=True\n",
    ")\n",
    "train_loader = DataLoader(dataset=train_dataset, batch_size=batch_size, shuffle=True)\n",
    "test_loader = DataLoader(dataset=test_dataset, batch_size=batch_size, shuffle=True)\n",
    "\n",
    "# Initialize network\n",
    "model = CNN(in_channels=in_channels, num_classes=num_classes).to(device)\n",
    "\n",
    "# Loss and optimizer\n",
    "criterion = nn.CrossEntropyLoss()\n",
    "optimizer = optim.Adam(model.parameters(), lr=learning_rate)\n",
    "\n",
    "# Train Network\n",
    "for epoch in range(num_epochs):\n",
    "    for batch_idx, (data, targets) in enumerate(tqdm(train_loader)):\n",
    "        # Get data to cuda if possible\n",
    "        data = data.to(device=device)\n",
    "        targets = targets.to(device=device)\n",
    "\n",
    "        # forward\n",
    "        scores = model(data)\n",
    "        loss = criterion(scores, targets)\n",
    "\n",
    "        # backward\n",
    "        optimizer.zero_grad()\n",
    "        loss.backward()\n",
    "\n",
    "        # gradient descent or adam step\n",
    "        optimizer.step()\n",
    "\n",
    "# Check accuracy on training & test to see how good our model\n",
    "def check_accuracy(loader, model):\n",
    "    num_correct = 0\n",
    "    num_samples = 0\n",
    "    model.eval()\n",
    "\n",
    "    with torch.no_grad():\n",
    "        for x, y in loader:\n",
    "            x = x.to(device=device)\n",
    "            y = y.to(device=device)\n",
    "\n",
    "            scores = model(x)\n",
    "            _, predictions = scores.max(1)\n",
    "            num_correct += (predictions == y).sum()\n",
    "            num_samples += predictions.size(0)\n",
    "\n",
    "    model.train()\n",
    "    return num_correct / num_samples\n",
    "\n",
    "\n",
    "print(f\"Accuracy on training set: {check_accuracy(train_loader, model)*100:.2f}\")\n",
    "print(f\"Accuracy on test set: {check_accuracy(test_loader, model)*100:.2f}\")"
   ]
  },
  {
   "cell_type": "code",
   "execution_count": null,
   "metadata": {},
   "outputs": [],
   "source": []
  }
 ],
 "metadata": {
  "kernelspec": {
   "display_name": "pytorch_env",
   "language": "python",
   "name": "python3"
  },
  "language_info": {
   "codemirror_mode": {
    "name": "ipython",
    "version": 3
   },
   "file_extension": ".py",
   "mimetype": "text/x-python",
   "name": "python",
   "nbconvert_exporter": "python",
   "pygments_lexer": "ipython3",
   "version": "3.9.21"
  }
 },
 "nbformat": 4,
 "nbformat_minor": 2
}
